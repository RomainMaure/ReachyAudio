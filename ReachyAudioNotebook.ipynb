{
 "cells": [
  {
   "cell_type": "markdown",
   "metadata": {},
   "source": [
    "# Testing the audio"
   ]
  },
  {
   "cell_type": "markdown",
   "metadata": {},
   "source": [
    "**Note:** \n",
    "- It is advisable to read the README file before running this notebook.\n",
    "- Also stop all other running Python script or notebook connected to the robot as only one connection can run at the same time."
   ]
  },
  {
   "cell_type": "markdown",
   "metadata": {},
   "source": [
    "# Imports"
   ]
  },
  {
   "cell_type": "markdown",
   "metadata": {},
   "source": [
    "First we start by importing the necessary modules for this notebook :"
   ]
  },
  {
   "cell_type": "code",
   "execution_count": null,
   "metadata": {},
   "outputs": [],
   "source": [
    "import time\n",
    "import cv2 as cv\n",
    "import matplotlib.pyplot as plt\n",
    "import reachyAudio\n",
    "from reachy import Reachy, parts"
   ]
  },
  {
   "cell_type": "markdown",
   "metadata": {},
   "source": [
    "## Instantiate a ReachyAudio object"
   ]
  },
  {
   "cell_type": "code",
   "execution_count": null,
   "metadata": {},
   "outputs": [],
   "source": [
    "reachy_audio = reachyAudio.ReachyAudio()"
   ]
  },
  {
   "cell_type": "markdown",
   "metadata": {},
   "source": [
    "## Test : Recording"
   ]
  },
  {
   "cell_type": "markdown",
   "metadata": {},
   "source": [
    "To record audio samples and save them as a WAV file, you can use the method named recordAudio :"
   ]
  },
  {
   "cell_type": "code",
   "execution_count": null,
   "metadata": {},
   "outputs": [],
   "source": [
    "reachy_audio.recordAudio()"
   ]
  },
  {
   "cell_type": "markdown",
   "metadata": {},
   "source": [
    "By default, the record time is five seconds and the name of the output file is \"output.wav\".\n",
    "However, it is possible to specify them :"
   ]
  },
  {
   "cell_type": "code",
   "execution_count": null,
   "metadata": {},
   "outputs": [],
   "source": [
    "reachy_audio.recordAudio(recordTime= 8, wavOutputFileName= \"test.wav\")"
   ]
  },
  {
   "cell_type": "markdown",
   "metadata": {},
   "source": [
    "## Test : Play a wave file"
   ]
  },
  {
   "cell_type": "markdown",
   "metadata": {},
   "source": [
    "To play a WAV file, you can use the method named playAudio :"
   ]
  },
  {
   "cell_type": "code",
   "execution_count": null,
   "metadata": {},
   "outputs": [],
   "source": [
    "reachy_audio.playAudio(\"output.wav\")"
   ]
  },
  {
   "cell_type": "markdown",
   "metadata": {},
   "source": [
    "## Test : text to speech"
   ]
  },
  {
   "cell_type": "markdown",
   "metadata": {},
   "source": [
    "To make Reachy talk, the method speak can be used :"
   ]
  },
  {
   "cell_type": "code",
   "execution_count": null,
   "metadata": {},
   "outputs": [],
   "source": [
    "reachy_audio.speak(\"Hello there, my name is Reachy\")"
   ]
  },
  {
   "cell_type": "markdown",
   "metadata": {},
   "source": [
    "It is possible to specify the rate (default is 150) and the volume (default is 1.0) of the voice :"
   ]
  },
  {
   "cell_type": "code",
   "execution_count": null,
   "metadata": {},
   "outputs": [],
   "source": [
    "reachy_audio.setEngineProperties(rate= 200, volume= 0.8)\n",
    "reachy_audio.speak(\"Hello there, my name is Reachy\")"
   ]
  },
  {
   "cell_type": "markdown",
   "metadata": {},
   "source": [
    "Finally, one can also specify the desired voice (the default one is english). First we check what are the available voices :"
   ]
  },
  {
   "cell_type": "code",
   "execution_count": null,
   "metadata": {},
   "outputs": [],
   "source": [
    "reachy_audio.availableVoices()"
   ]
  },
  {
   "cell_type": "markdown",
   "metadata": {},
   "source": [
    "Then, we can test one of these voices :"
   ]
  },
  {
   "cell_type": "code",
   "execution_count": null,
   "metadata": {},
   "outputs": [],
   "source": [
    "reachy_audio.setEngineProperties(voice_id= \"italian\")\n",
    "reachy_audio.speak(\"Buongiorno, sono il robot Reachy\")\n",
    "reachy_audio.setEngineProperties()"
   ]
  },
  {
   "cell_type": "markdown",
   "metadata": {},
   "source": [
    "## Test : Speech recognition"
   ]
  },
  {
   "cell_type": "markdown",
   "metadata": {},
   "source": [
    "To recognize a speech, one can use the method named recognizeSpeech.\n",
    "The recognizer will wait until the user says something and will stop the listening when the user stops to speak. "
   ]
  },
  {
   "cell_type": "code",
   "execution_count": null,
   "metadata": {},
   "outputs": [],
   "source": [
    "said = reachy_audio.recognizeSpeech()"
   ]
  },
  {
   "cell_type": "markdown",
   "metadata": {},
   "source": [
    "Here is a simple chatting interaction :"
   ]
  },
  {
   "cell_type": "code",
   "execution_count": null,
   "metadata": {},
   "outputs": [],
   "source": [
    "if \"hello\" in said:\n",
    "    reachy_audio.speak(\"Hello there, my name is reachy.\")"
   ]
  },
  {
   "cell_type": "markdown",
   "metadata": {},
   "source": [
    "## Test : voice activity detection"
   ]
  },
  {
   "cell_type": "markdown",
   "metadata": {},
   "source": [
    "To detect voice activity, you can simply call the method named is_voice. This method will return a boolean indicating if someone is speaking or not."
   ]
  },
  {
   "cell_type": "code",
   "execution_count": null,
   "metadata": {},
   "outputs": [],
   "source": [
    "print(reachy_audio.mic.is_voice())  "
   ]
  },
  {
   "cell_type": "markdown",
   "metadata": {},
   "source": [
    "It is also possible to call the method longIsVoice. This method allow you to store in a list the result of several calls to isVoice spaced by a delay."
   ]
  },
  {
   "cell_type": "code",
   "execution_count": null,
   "metadata": {},
   "outputs": [],
   "source": [
    "recordingVoiceActivity = reachy_audio.longIsVoice(numberMeasures= 30, timeDelay= 0.2)\n",
    "print(recordingVoiceActivity)"
   ]
  },
  {
   "cell_type": "markdown",
   "metadata": {},
   "source": [
    "## Test : sound localization"
   ]
  },
  {
   "cell_type": "markdown",
   "metadata": {},
   "source": [
    "To detect sound orientation, you can simply call the method named direction. This method will return an angle in degrees representing the direction of arrival of the incomming sound.\n",
    "The angle provided follow a counter clockwise orientation."
   ]
  },
  {
   "cell_type": "code",
   "execution_count": null,
   "metadata": {
    "scrolled": true
   },
   "outputs": [],
   "source": [
    "print(reachy_audio.mic.direction)"
   ]
  },
  {
   "cell_type": "markdown",
   "metadata": {},
   "source": [
    "You can also use the longSoundOrientation method that will behave similarly to the longIsVoice method."
   ]
  },
  {
   "cell_type": "code",
   "execution_count": null,
   "metadata": {},
   "outputs": [],
   "source": [
    "recordingSoundOrientation = reachy_audio.longSoundOrientation(numberMeasures= 40, timeDelay= 0.05)\n",
    "print(recordingSoundOrientation)"
   ]
  },
  {
   "cell_type": "markdown",
   "metadata": {},
   "source": [
    "### Orient the head toward interlocutor"
   ]
  },
  {
   "cell_type": "markdown",
   "metadata": {},
   "source": [
    "First we need to connect to the head :"
   ]
  },
  {
   "cell_type": "code",
   "execution_count": null,
   "metadata": {},
   "outputs": [],
   "source": [
    "reachy = Reachy(head=parts.Head(io='/dev/ttyUSB*'),)"
   ]
  },
  {
   "cell_type": "markdown",
   "metadata": {},
   "source": [
    "Check that all 3 disks are present and ok."
   ]
  },
  {
   "cell_type": "code",
   "execution_count": null,
   "metadata": {},
   "outputs": [],
   "source": [
    "for d in reachy.head.neck.disks:\n",
    "    print(d, d.temperature)"
   ]
  },
  {
   "cell_type": "markdown",
   "metadata": {},
   "source": [
    "Start by going to base position :"
   ]
  },
  {
   "cell_type": "code",
   "execution_count": null,
   "metadata": {},
   "outputs": [],
   "source": [
    "reachy.head.compliant = False\n",
    "reachy.head.look_at(1, 0, 0, duration=2, wait=True)"
   ]
  },
  {
   "cell_type": "markdown",
   "metadata": {},
   "source": [
    "Then we can start to make Reachy's head follow the direction of the interlocutor's voice :"
   ]
  },
  {
   "cell_type": "code",
   "execution_count": null,
   "metadata": {},
   "outputs": [],
   "source": [
    "reachy_audio.orientToInterlocutor(reachy)\n",
    "\n",
    "success, img = reachy.head.right_camera.read()\n",
    "if success:\n",
    "    plt.figure()\n",
    "    plt.imshow(cv.cvtColor(img, cv.COLOR_BGR2RGB))"
   ]
  },
  {
   "cell_type": "code",
   "execution_count": null,
   "metadata": {},
   "outputs": [],
   "source": [
    "reachy.head.compliant = True"
   ]
  },
  {
   "cell_type": "markdown",
   "metadata": {},
   "source": [
    "## Test : LEDs control"
   ]
  },
  {
   "cell_type": "markdown",
   "metadata": {},
   "source": [
    "It is possible to control the LEDs of the microphone array of Reachy. The use of theses leds can for example significantly improve the human computer interaction by giving feedback to the interlocutor such as the internal state of the robot (listening, processing data, answering, etc...). It can also be used for any other purposes. Here is an overview of the availables functions :"
   ]
  },
  {
   "cell_type": "markdown",
   "metadata": {},
   "source": [
    "To set all the LEDs to a single color, one can use the method named mono :"
   ]
  },
  {
   "cell_type": "code",
   "execution_count": null,
   "metadata": {},
   "outputs": [],
   "source": [
    "reachy_audio.pixel_ring.mono(0xFF0000)\n",
    "time.sleep(3)\n",
    "reachy_audio.pixel_ring.mono(0x00FF00)\n",
    "time.sleep(3)\n",
    "reachy_audio.pixel_ring.mono(0x0000FF)\n",
    "time.sleep(3)\n",
    "reachy_audio.pixel_ring.mono(0xFF00FF)"
   ]
  },
  {
   "cell_type": "markdown",
   "metadata": {},
   "source": [
    "To avoid the use hexadecimal values, one can also use the set_color method as follows :"
   ]
  },
  {
   "cell_type": "code",
   "execution_count": null,
   "metadata": {},
   "outputs": [],
   "source": [
    "reachy_audio.pixel_ring.set_color(r=255, g=0, b=0)"
   ]
  },
  {
   "cell_type": "markdown",
   "metadata": {},
   "source": [
    "The trace method allows the LEDs to change depending on the voice activity detection (VAD) and the direction of arrival angle (DOA) : "
   ]
  },
  {
   "cell_type": "code",
   "execution_count": null,
   "metadata": {},
   "outputs": [],
   "source": [
    "reachy_audio.pixel_ring.trace()"
   ]
  },
  {
   "cell_type": "markdown",
   "metadata": {},
   "source": [
    "The listen method is similar to the trace method except that the LEDs don't turn off :"
   ]
  },
  {
   "cell_type": "code",
   "execution_count": null,
   "metadata": {},
   "outputs": [],
   "source": [
    "reachy_audio.pixel_ring.listen()"
   ]
  },
  {
   "cell_type": "markdown",
   "metadata": {},
   "source": [
    "Others additional features are the think method, the speak method and the spin method :"
   ]
  },
  {
   "cell_type": "code",
   "execution_count": null,
   "metadata": {},
   "outputs": [],
   "source": [
    "reachy_audio.pixel_ring.think()"
   ]
  },
  {
   "cell_type": "code",
   "execution_count": null,
   "metadata": {},
   "outputs": [],
   "source": [
    "reachy_audio.pixel_ring.speak()"
   ]
  },
  {
   "cell_type": "code",
   "execution_count": null,
   "metadata": {},
   "outputs": [],
   "source": [
    "reachy_audio.pixel_ring.spin()"
   ]
  },
  {
   "cell_type": "markdown",
   "metadata": {},
   "source": [
    "It is possible to set the color palette :"
   ]
  },
  {
   "cell_type": "code",
   "execution_count": null,
   "metadata": {},
   "outputs": [],
   "source": [
    "reachy_audio.pixel_ring.set_color_palette(0x00FF00, 0xFFFF00)\n",
    "reachy_audio.pixel_ring.speak()\n",
    "time.sleep(3)\n",
    "reachy_audio.pixel_ring.set_color_palette(0xFF0000, 0xFF00FF)\n",
    "reachy_audio.pixel_ring.speak()"
   ]
  },
  {
   "cell_type": "markdown",
   "metadata": {},
   "source": [
    "One can also set the brightness of the LEDs (range: 0x00 - 0x1F) :"
   ]
  },
  {
   "cell_type": "code",
   "execution_count": null,
   "metadata": {},
   "outputs": [],
   "source": [
    "reachy_audio.pixel_ring.set_brightness(0x12)\n",
    "reachy_audio.pixel_ring.speak()\n",
    "time.sleep(3)\n",
    "reachy_audio.pixel_ring.set_brightness(0x05)\n",
    "reachy_audio.pixel_ring.speak()"
   ]
  },
  {
   "cell_type": "markdown",
   "metadata": {},
   "source": [
    "One can set how the VAD LED should operate (0 = off, 1 = on, else = depends on VAD):"
   ]
  },
  {
   "cell_type": "code",
   "execution_count": null,
   "metadata": {},
   "outputs": [],
   "source": [
    "reachy_audio.pixel_ring.set_vad_led(0)\n",
    "time.sleep(3)\n",
    "reachy_audio.pixel_ring.set_vad_led(1)\n",
    "time.sleep(3)\n",
    "reachy_audio.pixel_ring.set_vad_led(2)"
   ]
  },
  {
   "cell_type": "markdown",
   "metadata": {},
   "source": [
    "An additional feature is the set_volume method (range: 0 - 11, no relation with the volume of the speaker):"
   ]
  },
  {
   "cell_type": "code",
   "execution_count": null,
   "metadata": {},
   "outputs": [],
   "source": [
    "reachy_audio.pixel_ring.set_volume(0)\n",
    "time.sleep(3)\n",
    "reachy_audio.pixel_ring.set_volume(6)\n",
    "time.sleep(3)\n",
    "reachy_audio.pixel_ring.set_volume(11)"
   ]
  },
  {
   "cell_type": "markdown",
   "metadata": {},
   "source": [
    "Finnaly, one can turn off the LEDs by using the method named off :"
   ]
  },
  {
   "cell_type": "code",
   "execution_count": null,
   "metadata": {},
   "outputs": [],
   "source": [
    "reachy_audio.pixel_ring.off()"
   ]
  },
  {
   "cell_type": "markdown",
   "metadata": {},
   "source": [
    "## Test : Conversation"
   ]
  },
  {
   "cell_type": "markdown",
   "metadata": {},
   "source": [
    "To allow Reachy to do a conversation with people, one can call the method named conversation.\n",
    "\n",
    "**Note:** \n",
    "- The fan used to cool the orbita system motors is quite close to the microphone array and thus induces some noise. Better results for the conversation can be obtained by doing the calibration of the recognizer while this fan is on, so that the recognizer considers this noise as an ambient noise for which he is calibrated. The calibration step is automatically called during the initialization of the reachyAudio object, however one can also manually ask for a new calibration of the recognizer by calling the method named calibrateRecognizer.\n",
    "- To stop the conversation method, use the interrupt kernel button (button located on the right side of the run button). If you are using the conversation method in a .py file and not in a jupyter notebook, you can stop the method simply by pressing a key on the keyboard."
   ]
  },
  {
   "cell_type": "code",
   "execution_count": null,
   "metadata": {},
   "outputs": [],
   "source": [
    "# Make sure to run this cell when the orbita system fan is on.\n",
    "reachy_audio.calibrateRecognizer()"
   ]
  },
  {
   "cell_type": "code",
   "execution_count": null,
   "metadata": {},
   "outputs": [],
   "source": [
    "reachy.head.compliant = False\n",
    "reachy.head.look_at(1, 0, 0, duration=2, wait=True)"
   ]
  },
  {
   "cell_type": "code",
   "execution_count": null,
   "metadata": {},
   "outputs": [],
   "source": [
    "reachy_audio.conversation(reachy)"
   ]
  },
  {
   "cell_type": "code",
   "execution_count": null,
   "metadata": {},
   "outputs": [],
   "source": [
    "reachy.head.compliant = True"
   ]
  },
  {
   "cell_type": "code",
   "execution_count": null,
   "metadata": {},
   "outputs": [],
   "source": []
  }
 ],
 "metadata": {
  "kernelspec": {
   "display_name": "Python 3",
   "language": "python",
   "name": "python3"
  },
  "language_info": {
   "codemirror_mode": {
    "name": "ipython",
    "version": 3
   },
   "file_extension": ".py",
   "mimetype": "text/x-python",
   "name": "python",
   "nbconvert_exporter": "python",
   "pygments_lexer": "ipython3",
   "version": "3.7.3"
  }
 },
 "nbformat": 4,
 "nbformat_minor": 4
}
